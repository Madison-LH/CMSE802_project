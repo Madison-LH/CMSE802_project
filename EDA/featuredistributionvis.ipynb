{
 "cells": [
  {
   "cell_type": "code",
   "execution_count": 1,
   "metadata": {},
   "outputs": [
    {
     "name": "stdout",
     "output_type": "stream",
     "text": [
      "Average Brightness: 139.73\n"
     ]
    },
    {
     
      ]
     },
     "metadata": {},
     "output_type": "display_data"
    }
   ],
   "source": [
    "import cv2\n",
    "import numpy as np\n",
    "import matplotlib.pyplot as plt\n",
    "\n",
    "# 1. Load an image (make sure \"sample.jpg\" is in your working directory)\n",
    "img_bgr = cv2.imread(\"E:\\\\Multicategory_frames\\\\INSC\\\\1000_frame_134.jpg\")  # Loads image in BGR format\n",
    "if img_bgr is None:\n",
    "    raise FileNotFoundError(\"Could not load the image. Check the file path.\")\n",
    "\n",
    "# 2. Convert the BGR image to RGB (for consistent plotting in matplotlib)\n",
    "img_rgb = cv2.cvtColor(img_bgr, cv2.COLOR_BGR2RGB)\n",
    "\n",
    "# 3. Convert to grayscale for brightness and intensity distribution\n",
    "gray = cv2.cvtColor(img_bgr, cv2.COLOR_BGR2GRAY)\n",
    "\n",
    "# 4. Compute average brightness (simply the mean of grayscale pixel intensities)\n",
    "average_brightness = np.mean(gray)\n",
    "print(f\"Average Brightness: {average_brightness:.2f}\")\n",
    "\n",
    "# 5. Create subplots to visualize different distributions and the original image\n",
    "plt.figure(figsize=(15, 5))\n",
    "\n",
    "# (a) Grayscale histogram\n",
    "plt.subplot(1, 3, 1)\n",
    "plt.hist(gray.ravel(), bins=256, range=(0, 256), color='gray')\n",
    "plt.title(\"Grayscale Histogram\")\n",
    "plt.xlabel(\"Pixel Intensity\")\n",
    "plt.ylabel(\"Frequency\")\n",
    "\n",
    "# (b) Color histogram for each channel\n",
    "colors = ('r', 'g', 'b')\n",
    "plt.subplot(1, 3, 2)\n",
    "for i, col in enumerate(colors):\n",
    "    # cv2.calcHist arguments: images, channels, mask, histSize, ranges\n",
    "    hist = cv2.calcHist([img_rgb], [i], None, [256], [0, 256])\n",
    "    plt.plot(hist, color=col, label=f'{col.upper()} channel')\n",
    "    plt.xlim([0, 256])\n",
    "plt.title(\"Color Channel Histograms\")\n",
    "plt.xlabel(\"Pixel Intensity\")\n",
    "plt.ylabel(\"Frequency\")\n",
    "plt.legend()\n",
    "\n",
    "# (c) Show the original image for reference\n",
    "plt.subplot(1, 3, 3)\n",
    "plt.imshow(img_rgb)\n",
    "plt.title(\"Sample Image\")\n",
    "plt.axis('off')  # Hide axis ticks\n",
    "\n",
    "plt.tight_layout()\n",
    "plt.show()\n"
   ]
  }
 ],
 "metadata": {
  "kernelspec": {
   "display_name": "cmse802",
   "language": "python",
   "name": "python3"
  },
  "language_info": {
   "codemirror_mode": {
    "name": "ipython",
    "version": 3
   },
   "file_extension": ".py",
   "mimetype": "text/x-python",
   "name": "python",
   "nbconvert_exporter": "python",
   "pygments_lexer": "ipython3",
   "version": "3.8.20"
  }
 },
 "nbformat": 4,
 "nbformat_minor": 2
}
